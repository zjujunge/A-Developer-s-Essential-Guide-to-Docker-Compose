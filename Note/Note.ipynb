{
 "cells": [
  {
   "attachments": {},
   "cell_type": "markdown",
   "metadata": {},
   "source": [
    "# Introduction to Docker Compose\n",
    "## Understanding how Docker Compose works\n",
    "\n",
    "* Compose integrates with the Docker CLI as a plugin. \n",
    "* Compose interacts with Docker Engine through the API. \n",
    "* Compose provides a CLI and its actions translate into Docker Engine API calls. \n",
    "* Compose will read the Compose YAML ﬁle and generate resources accordingly. \n",
    "* Compose provides a layer for converting docker-compose commands into CLI-compliant ones. \n",
    "* Compose will interact with Docker objects and distinguish between them using labels.\n",
    "\n",
    "\n",
    "e Docker CLI provides an API to create and load plugins. Once a plugin has been created and \n",
    "loaded on its invocation, the CLI command will be passed to it:"
   ]
  },
  {
   "attachments": {},
   "cell_type": "markdown",
   "metadata": {},
   "source": [
    "``` go\n",
    "func pluginMain() { \n",
    "    plugin.Run(func(dockerCli command.Cli) *cobra.Command { \n",
    "        … \n",
    "    } \n",
    "} \n",
    "\n",
    "func main() { \n",
    "    if commands.RunningAsStandalone() { \n",
    "        os.Args = append([]string{\"docker\"}, compatibility.Convert(os.Args[1:])...) \n",
    "    } \n",
    "    pluginMain() \n",
    "}\n",
    "```"
   ]
  },
  {
   "attachments": {},
   "cell_type": "markdown",
   "metadata": {},
   "source": [
    "Compose, being a plugin of the Docker CLI, will use a Docker Engine API client provided by the \n",
    "Docker CLI:"
   ]
  },
  {
   "attachments": {},
   "cell_type": "markdown",
   "metadata": {},
   "source": [
    "```go\n",
    "lazyInit.WithService(compose.NewComposeService(dockerCli.Client(), dockerCli.ConfigFile()))\n",
    "```"
   ]
  },
  {
   "attachments": {},
   "cell_type": "markdown",
   "metadata": {},
   "source": [
    "Each command passed to the Docker Compose plugin will lead to an interaction with the Docker Engine API on our host. For example, the internals of the ls command:"
   ]
  },
  {
   "attachments": {},
   "cell_type": "markdown",
   "metadata": {},
   "source": [
    "```go\n",
    "func (s *composeService) List(ctx context.Context, opts api.ListOptions) ([]api.Stack, error) { \n",
    "    list, err := s.apiClient.ContainerList(ctx, moby.ContainerListOptions{ \n",
    "        Filters: filters.NewArgs(hasProjectLabelFilter()), \n",
    "        All: opts.All, \n",
    "    }) \n",
    "    if err != nil { \n",
    "        return nil, err \n",
    "    }\n",
    "    return containersToStacks(list) \n",
    "} \n",
    "```"
   ]
  },
  {
   "cell_type": "markdown",
   "metadata": {},
   "source": []
  }
 ],
 "metadata": {
  "language_info": {
   "name": "python"
  },
  "orig_nbformat": 4
 },
 "nbformat": 4,
 "nbformat_minor": 2
}
